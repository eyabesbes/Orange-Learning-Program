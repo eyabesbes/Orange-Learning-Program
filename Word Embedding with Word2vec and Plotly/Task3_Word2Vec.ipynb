{
 "cells": [
  {
   "cell_type": "markdown",
   "metadata": {},
   "source": [
    "# Interactive Recommendation System with Word Embeddings using Word2Vec, Plotly, and NetworkX\n",
    "\n",
    "## Project Breakdown\n",
    "- Task 1: Introduction\n",
    "- Task 2: Exploratory Data Analysis and Preprocessing\n",
    "- Task 3: Word2Vec with Gensim (you are here)\n",
    "- Task 4: Exploring Results\n",
    "- Task 5: Building and Visualizing Interactive Network Graph\n",
    "\n",
    "## Task 3: Word2Vec with Gensim\n",
    "Word2Vec original papers can be found [here](https://arxiv.org/pdf/1301.3781.pdf) and [here](https://arxiv.org/pdf/1310.4546.pdf), while the documentation for the Gensim model can be found [here](https://radimrehurek.com/gensim/models/word2vec.html).\n",
    "\n",
    "![Word2Vec architecture](Data/word2vec.jpeg)"
   ]
  },
  {
   "cell_type": "code",
   "execution_count": 1,
   "metadata": {},
   "outputs": [],
   "source": [
    "from gensim.models.word2vec import Word2Vec\n",
    "from tqdm import tqdm\n",
    "import pandas as pd\n",
    "import pickle"
   ]
  },
  {
   "cell_type": "code",
   "execution_count": 4,
   "metadata": {},
   "outputs": [],
   "source": [
    "with open('Data/train_data.pkl','rb') as f:\n",
    "    train_data=pickle.load(f)"
   ]
  },
  {
   "cell_type": "code",
   "execution_count": 6,
   "metadata": {},
   "outputs": [
    {
     "data": {
      "text/plain": [
       "['place',\n",
       " 'chicken',\n",
       " 'butter',\n",
       " 'soup',\n",
       " 'onion',\n",
       " 'slow',\n",
       " 'cooker',\n",
       " 'water',\n",
       " 'cover',\n",
       " 'cover',\n",
       " 'cook',\n",
       " 'hours',\n",
       " 'high',\n",
       " 'minutes',\n",
       " 'serving',\n",
       " 'place',\n",
       " 'torn',\n",
       " 'biscuit',\n",
       " 'dough',\n",
       " 'slow',\n",
       " 'cooker',\n",
       " 'cook',\n",
       " 'dough',\n",
       " 'longer',\n",
       " 'raw',\n",
       " 'center']"
      ]
     },
     "execution_count": 6,
     "metadata": {},
     "output_type": "execute_result"
    }
   ],
   "source": [
    "train_data[0]"
   ]
  },
  {
   "cell_type": "code",
   "execution_count": 13,
   "metadata": {},
   "outputs": [],
   "source": [
    "model=Word2Vec()"
   ]
  },
  {
   "cell_type": "code",
   "execution_count": 14,
   "metadata": {},
   "outputs": [],
   "source": [
    "model.build_vocab(train_data)"
   ]
  },
  {
   "cell_type": "code",
   "execution_count": 15,
   "metadata": {},
   "outputs": [
    {
     "name": "stdout",
     "output_type": "stream",
     "text": [
      "CPU times: user 3min 12s, sys: 1.26 s, total: 3min 13s\n",
      "Wall time: 1min 43s\n"
     ]
    },
    {
     "data": {
      "text/plain": [
       "(68100092, 81403200)"
      ]
     },
     "execution_count": 15,
     "metadata": {},
     "output_type": "execute_result"
    }
   ],
   "source": [
    "%%time\n",
    "model.train(train_data, total_examples=model.corpus_count, epochs=model.epochs)"
   ]
  },
  {
   "cell_type": "code",
   "execution_count": 16,
   "metadata": {},
   "outputs": [
    {
     "data": {
      "text/plain": [
       "[('dressing', 0.7689329385757446),\n",
       " ('mesclun', 0.738060474395752),\n",
       " ('vinaigrette', 0.734387218952179),\n",
       " ('salads', 0.7296278476715088),\n",
       " ('mizuna', 0.7230371832847595),\n",
       " ('dressed', 0.6885290145874023),\n",
       " ('slaw', 0.6703570485115051),\n",
       " ('frisée', 0.6523422002792358),\n",
       " ('mache', 0.6513055562973022),\n",
       " ('tossed', 0.650983989238739),\n",
       " ('lettuces', 0.6474379301071167),\n",
       " ('frisee', 0.6405917406082153),\n",
       " ('caesar', 0.6285038590431213),\n",
       " ('mâche', 0.6162219047546387),\n",
       " ('tabbouleh', 0.6149650812149048),\n",
       " ('zesty', 0.609714150428772),\n",
       " ('watercress', 0.6059816479682922),\n",
       " ('rocket', 0.6040061712265015),\n",
       " ('arugula', 0.6021600961685181),\n",
       " ('cress', 0.6012613773345947)]"
      ]
     },
     "execution_count": 16,
     "metadata": {},
     "output_type": "execute_result"
    }
   ],
   "source": [
    "model.wv.most_similar(['salad'], topn=20)"
   ]
  },
  {
   "cell_type": "code",
   "execution_count": 17,
   "metadata": {},
   "outputs": [
    {
     "data": {
      "text/plain": [
       "[('dressing', 0.6051104068756104),\n",
       " ('vinaigrette', 0.54527348279953),\n",
       " ('mesclun', 0.5194751024246216),\n",
       " ('pheasant', 0.5127019286155701),\n",
       " ('mizuna', 0.5076389312744141),\n",
       " ('salads', 0.5019259452819824),\n",
       " ('turkey', 0.5018468499183655),\n",
       " ('zesty', 0.5012830495834351),\n",
       " ('watercress', 0.497923344373703),\n",
       " ('lettuces', 0.49642324447631836),\n",
       " ('caesar', 0.4825786352157593),\n",
       " ('greens', 0.48153409361839294),\n",
       " ('romaine', 0.4769057631492615),\n",
       " ('slaw', 0.47429728507995605),\n",
       " ('frisee', 0.4718213677406311),\n",
       " ('squab', 0.4694540798664093),\n",
       " ('frisée', 0.4687381982803345),\n",
       " ('dress', 0.46055471897125244),\n",
       " ('lettuce', 0.4598221778869629),\n",
       " ('dressed', 0.4592679440975189)]"
      ]
     },
     "execution_count": 17,
     "metadata": {},
     "output_type": "execute_result"
    }
   ],
   "source": [
    "model.wv.most_similar(['salad','chicken'], topn=20)"
   ]
  },
  {
   "cell_type": "code",
   "execution_count": 18,
   "metadata": {},
   "outputs": [],
   "source": [
    "model.save('Data/w2v.model')"
   ]
  },
  {
   "cell_type": "code",
   "execution_count": null,
   "metadata": {},
   "outputs": [],
   "source": []
  }
 ],
 "metadata": {
  "kernelspec": {
   "display_name": "Python 3",
   "language": "python",
   "name": "python3"
  },
  "language_info": {
   "codemirror_mode": {
    "name": "ipython",
    "version": 3
   },
   "file_extension": ".py",
   "mimetype": "text/x-python",
   "name": "python",
   "nbconvert_exporter": "python",
   "pygments_lexer": "ipython3",
   "version": "3.6.9"
  },
  "widgets": {
   "application/vnd.jupyter.widget-state+json": {
    "state": {},
    "version_major": 2,
    "version_minor": 0
   }
  }
 },
 "nbformat": 4,
 "nbformat_minor": 4
}
